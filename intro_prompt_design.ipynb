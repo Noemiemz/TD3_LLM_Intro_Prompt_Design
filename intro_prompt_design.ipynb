{
  "cells": [
    {
      "cell_type": "markdown",
      "metadata": {
        "id": "view-in-github",
        "colab_type": "text"
      },
      "source": [
        "<a href=\"https://colab.research.google.com/github/Noemiemz/TD3_LLM_Intro_Prompt_Design/blob/main/intro_prompt_design.ipynb\" target=\"_parent\"><img src=\"https://colab.research.google.com/assets/colab-badge.svg\" alt=\"Open In Colab\"/></a>"
      ]
    },
    {
      "cell_type": "code",
      "execution_count": null,
      "metadata": {
        "id": "ur8xi4C7S06n"
      },
      "outputs": [],
      "source": [
        "# Copyright 2024 Google LLC\n",
        "#\n",
        "# Licensed under the Apache License, Version 2.0 (the \"License\");\n",
        "# you may not use this file except in compliance with the License.\n",
        "# You may obtain a copy of the License at\n",
        "#\n",
        "#     https://www.apache.org/licenses/LICENSE-2.0\n",
        "#\n",
        "# Unless required by applicable law or agreed to in writing, software\n",
        "# distributed under the License is distributed on an \"AS IS\" BASIS,\n",
        "# WITHOUT WARRANTIES OR CONDITIONS OF ANY KIND, either express or implied.\n",
        "# See the License for the specific language governing permissions and\n",
        "# limitations under the License."
      ]
    },
    {
      "cell_type": "markdown",
      "metadata": {
        "id": "JAPoU8Sm5E6e"
      },
      "source": [
        "# Prompt Design - Best Practices\n",
        "\n",
        "<table align=\"left\">\n",
        "  <td style=\"text-align: center\">\n",
        "    <a href=\"https://colab.research.google.com/github/GoogleCloudPlatform/generative-ai/blob/main/gemini/prompts/intro_prompt_design.ipynb\">\n",
        "      <img width=\"32px\" src=\"https://www.gstatic.com/pantheon/images/bigquery/welcome_page/colab-logo.svg\" alt=\"Google Colaboratory logo\"><br> Open in Colab\n",
        "    </a>\n",
        "  </td>\n",
        "  <td style=\"text-align: center\">\n",
        "    <a href=\"https://console.cloud.google.com/vertex-ai/colab/import/https:%2F%2Fraw.githubusercontent.com%2FGoogleCloudPlatform%2Fgenerative-ai%2Fmain%2Fgemini%2Fprompts%2Fintro_prompt_design.ipynb\">\n",
        "      <img width=\"32px\" src=\"https://lh3.googleusercontent.com/JmcxdQi-qOpctIvWKgPtrzZdJJK-J3sWE1RsfjZNwshCFgE_9fULcNpuXYTilIR2hjwN\" alt=\"Google Cloud Colab Enterprise logo\"><br> Open in Colab Enterprise\n",
        "    </a>\n",
        "  </td>    \n",
        "  <td style=\"text-align: center\">\n",
        "    <a href=\"https://console.cloud.google.com/vertex-ai/workbench/deploy-notebook?download_url=https://raw.githubusercontent.com/GoogleCloudPlatform/generative-ai/main/gemini/prompts/intro_prompt_design.ipynb\">\n",
        "      <img src=\"https://lh3.googleusercontent.com/UiNooY4LUgW_oTvpsNhPpQzsstV5W8F7rYgxgGBD85cWJoLmrOzhVs_ksK_vgx40SHs7jCqkTkCk=e14-rj-sc0xffffff-h130-w32\" alt=\"Vertex AI logo\"><br> Open in Workbench\n",
        "    </a>\n",
        "  </td>\n",
        "  <td style=\"text-align: center\">\n",
        "    <a href=\"https://github.com/GoogleCloudPlatform/generative-ai/blob/main/gemini/prompts/intro_prompt_design.ipynb\">\n",
        "      <img width=\"32px\" src=\"https://www.svgrepo.com/download/217753/github.svg\" alt=\"GitHub logo\"><br> View on GitHub\n",
        "    </a>\n",
        "  </td>\n",
        "  <td style=\"text-align: center\">\n",
        "    <a href=\"https://goo.gle/4fWHlze\">\n",
        "      <img width=\"32px\" src=\"https://cdn.qwiklabs.com/assets/gcp_cloud-e3a77215f0b8bfa9b3f611c0d2208c7e8708ed31.svg\" alt=\"Google Cloud logo\"><br> Open in  Cloud Skills Boost\n",
        "    </a>\n",
        "  </td>\n",
        "</table>\n",
        "\n",
        "<div style=\"clear: both;\"></div>\n",
        "\n",
        "<b>Share to:</b>\n",
        "\n",
        "<a href=\"https://www.linkedin.com/sharing/share-offsite/?url=https%3A//github.com/GoogleCloudPlatform/generative-ai/blob/main/gemini/prompts/intro_prompt_design.ipynb\" target=\"_blank\">\n",
        "  <img width=\"20px\" src=\"https://upload.wikimedia.org/wikipedia/commons/8/81/LinkedIn_icon.svg\" alt=\"LinkedIn logo\">\n",
        "</a>\n",
        "\n",
        "<a href=\"https://bsky.app/intent/compose?text=https%3A//github.com/GoogleCloudPlatform/generative-ai/blob/main/gemini/prompts/intro_prompt_design.ipynb\" target=\"_blank\">\n",
        "  <img width=\"20px\" src=\"https://upload.wikimedia.org/wikipedia/commons/7/7a/Bluesky_Logo.svg\" alt=\"Bluesky logo\">\n",
        "</a>\n",
        "\n",
        "<a href=\"https://twitter.com/intent/tweet?url=https%3A//github.com/GoogleCloudPlatform/generative-ai/blob/main/gemini/prompts/intro_prompt_design.ipynb\" target=\"_blank\">\n",
        "  <img width=\"20px\" src=\"https://upload.wikimedia.org/wikipedia/commons/5/5a/X_icon_2.svg\" alt=\"X logo\">\n",
        "</a>\n",
        "\n",
        "<a href=\"https://reddit.com/submit?url=https%3A//github.com/GoogleCloudPlatform/generative-ai/blob/main/gemini/prompts/intro_prompt_design.ipynb\" target=\"_blank\">\n",
        "  <img width=\"20px\" src=\"https://redditinc.com/hubfs/Reddit%20Inc/Brand/Reddit_Logo.png\" alt=\"Reddit logo\">\n",
        "</a>\n",
        "\n",
        "<a href=\"https://www.facebook.com/sharer/sharer.php?u=https%3A//github.com/GoogleCloudPlatform/generative-ai/blob/main/gemini/prompts/intro_prompt_design.ipynb\" target=\"_blank\">\n",
        "  <img width=\"20px\" src=\"https://upload.wikimedia.org/wikipedia/commons/5/51/Facebook_f_logo_%282019%29.svg\" alt=\"Facebook logo\">\n",
        "</a>            "
      ]
    },
    {
      "cell_type": "markdown",
      "metadata": {
        "id": "84f0f73a0f76"
      },
      "source": [
        "| Authors |\n",
        "| --- |\n",
        "| [Polong Lin](https://github.com/polong-lin) |\n",
        "| [Karl Weinmeister](https://github.com/kweinmeister) |"
      ]
    },
    {
      "cell_type": "markdown",
      "metadata": {
        "id": "tvgnzT1CKxrO"
      },
      "source": [
        "## Overview\n",
        "\n",
        "This notebook covers the essentials of prompt engineering, including some best practices.\n",
        "\n",
        "Learn more about prompt design in the [official documentation](https://cloud.google.com/vertex-ai/docs/generative-ai/text/text-overview).\n",
        "\n",
        "In this notebook, you learn best practices around prompt engineering -- how to design prompts to improve the quality of your responses.\n",
        "\n",
        "This notebook covers the following best practices for prompt engineering:\n",
        "\n",
        "- Be concise\n",
        "- Be specific and well-defined\n",
        "- Ask one task at a time\n",
        "- Turn generative tasks into classification tasks\n",
        "- Improve response quality by including examples"
      ]
    },
    {
      "cell_type": "markdown",
      "metadata": {
        "id": "61RBz8LLbxCR"
      },
      "source": [
        "## Getting Started"
      ]
    },
    {
      "cell_type": "markdown",
      "metadata": {
        "id": "No17Cw5hgx12"
      },
      "source": [
        "### Install Google Gen AI SDK\n"
      ]
    },
    {
      "cell_type": "code",
      "execution_count": 1,
      "metadata": {
        "id": "tFy3H3aPgx12",
        "colab": {
          "base_uri": "https://localhost:8080/"
        },
        "outputId": "76b194c1-b6ed-41d2-ae26-0ec151c900d9"
      },
      "outputs": [
        {
          "output_type": "stream",
          "name": "stdout",
          "text": [
            "\u001b[2K     \u001b[90m━━━━━━━━━━━━━━━━━━━━━━━━━━━━━━━━━━━━━━━━\u001b[0m \u001b[32m46.2/46.2 kB\u001b[0m \u001b[31m1.4 MB/s\u001b[0m eta \u001b[36m0:00:00\u001b[0m\n",
            "\u001b[2K   \u001b[90m━━━━━━━━━━━━━━━━━━━━━━━━━━━━━━━━━━━━━━━━\u001b[0m \u001b[32m239.4/239.4 kB\u001b[0m \u001b[31m5.2 MB/s\u001b[0m eta \u001b[36m0:00:00\u001b[0m\n",
            "\u001b[?25h"
          ]
        }
      ],
      "source": [
        "%pip install --upgrade --quiet google-genai"
      ]
    },
    {
      "cell_type": "markdown",
      "metadata": {
        "id": "dmWOrTJ3gx13"
      },
      "source": [
        "### Authenticate your notebook environment (Colab only)\n",
        "\n",
        "Authenticate your environment on Google Colab.\n"
      ]
    },
    {
      "cell_type": "code",
      "execution_count": 11,
      "metadata": {
        "id": "NyKGtVQjgx13"
      },
      "outputs": [],
      "source": [
        "import sys\n",
        "\n",
        "if \"google.colab\" in sys.modules:\n",
        "    from google.colab import auth\n",
        "\n",
        "    auth.authenticate_user()"
      ]
    },
    {
      "cell_type": "markdown",
      "metadata": {
        "id": "06489bd14f16"
      },
      "source": [
        "### Import libraries\n"
      ]
    },
    {
      "cell_type": "code",
      "execution_count": 12,
      "metadata": {
        "id": "154137022fb6"
      },
      "outputs": [],
      "source": [
        "from IPython.display import Markdown, display\n",
        "from google import genai\n",
        "from google.genai.types import GenerateContentConfig"
      ]
    },
    {
      "cell_type": "markdown",
      "metadata": {
        "id": "DF4l8DTdWgPY"
      },
      "source": [
        "### Set Google Cloud project information and create client\n",
        "\n",
        "To get started using Vertex AI, you must have an existing Google Cloud project and [enable the Vertex AI API](https://console.cloud.google.com/flows/enableapi?apiid=aiplatform.googleapis.com).\n",
        "\n",
        "Learn more about [setting up a project and a development environment](https://cloud.google.com/vertex-ai/docs/start/cloud-environment)."
      ]
    },
    {
      "cell_type": "code",
      "source": [],
      "metadata": {
        "id": "-QgEHys3HFR5"
      },
      "execution_count": null,
      "outputs": []
    },
    {
      "cell_type": "code",
      "execution_count": 18,
      "metadata": {
        "id": "Nqwi-5ufWp_B"
      },
      "outputs": [],
      "source": [
        "import os\n",
        "\n",
        "PROJECT_ID = \"td3-llm\"  # @param {type: \"string\", placeholder: \"[your-project-id]\", isTemplate: true}\n",
        "if not PROJECT_ID:\n",
        "    PROJECT_ID = str(os.environ.get(\"GOOGLE_CLOUD_PROJECT\"))\n",
        "\n",
        "LOCATION = os.environ.get(\"GOOGLE_CLOUD_REGION\", \"us-central1\")"
      ]
    },
    {
      "cell_type": "code",
      "execution_count": 19,
      "metadata": {
        "id": "QqRWdPGmW3NJ"
      },
      "outputs": [],
      "source": [
        "client = genai.Client(vertexai=True, project=PROJECT_ID, location=LOCATION)"
      ]
    },
    {
      "cell_type": "markdown",
      "metadata": {
        "id": "OnFPpCRtXRl4"
      },
      "source": [
        "### Load model\n",
        "\n",
        "Learn more about all [Gemini models on Vertex AI](https://cloud.google.com/vertex-ai/generative-ai/docs/learn/models#gemini-models)."
      ]
    },
    {
      "cell_type": "code",
      "execution_count": 20,
      "metadata": {
        "id": "IQYu_9SvXQah"
      },
      "outputs": [],
      "source": [
        "MODEL_ID = \"gemini-2.0-flash-001\"  # @param {type: \"string\"}"
      ]
    },
    {
      "cell_type": "markdown",
      "metadata": {
        "id": "cVOtUNJ5X0PY"
      },
      "source": [
        "## Prompt engineering best practices"
      ]
    },
    {
      "cell_type": "markdown",
      "metadata": {
        "id": "uv_e0fEPX60q"
      },
      "source": [
        "Prompt engineering is all about how to design your prompts so that the response is what you were indeed hoping to see.\n",
        "\n",
        "The idea of using \"unfancy\" prompts is to minimize the noise in your prompt to reduce the possibility of the LLM misinterpreting the intent of the prompt. Below are a few guidelines on how to engineer \"unfancy\" prompts.\n",
        "\n",
        "In this section, you'll cover the following best practices when engineering prompts:\n",
        "\n",
        "* Be concise\n",
        "* Be specific, and well-defined\n",
        "* Ask one task at a time\n",
        "* Improve response quality by including examples\n",
        "* Turn generative tasks to classification tasks to improve safety"
      ]
    },
    {
      "cell_type": "markdown",
      "metadata": {
        "id": "0pY4XX0OX9_Y"
      },
      "source": [
        "### Be concise"
      ]
    },
    {
      "cell_type": "markdown",
      "metadata": {
        "id": "xlRpxyxGYA1K"
      },
      "source": [
        "🛑 Not recommended. The prompt below is unnecessarily verbose."
      ]
    },
    {
      "cell_type": "code",
      "execution_count": 21,
      "metadata": {
        "id": "YKV4G-CfXdbi",
        "colab": {
          "base_uri": "https://localhost:8080/",
          "height": 814
        },
        "outputId": "4a91e829-94e2-4652-94bb-5e4444942e71"
      },
      "outputs": [
        {
          "output_type": "display_data",
          "data": {
            "text/plain": [
              "<IPython.core.display.Markdown object>"
            ],
            "text/markdown": "Okay, let's brainstorm some names for a dried flower shop, keeping in mind the unique qualities of dried flowers (longevity, texture, artistry, and sometimes a vintage/rustic feel). I'll try to group them by style:\n\n**Emphasizing Longevity & Timelessness:**\n\n*   **The Everbloom Studio:** (Elegant and suggests lasting beauty)\n*   **Timeless Blooms:** (Direct and easy to understand)\n*   **Lasting Petals:** (Poetic and emphasizes the enduring nature)\n*   **The Preserved Posy:** (Charming and vintage-inspired)\n*   **Eternal Flora:** (Sophisticated and highlights permanence)\n*   **The Enduring Bouquet:** (Clear and focuses on the main product)\n\n**Highlighting Artistry & Craft:**\n\n*   **The Dryad's Design:** (Mythical and suggests natural artistry)\n*   **Petal & Pine:** (Rustic and hints at dried arrangements)\n*   **The Still Life Florist:** (Artistic and evokes the still life genre)\n*   **Dried & Designed:** (Simple and descriptive)\n*   **The Botanical Alchemist:** (Intriguing and suggests transformation)\n\n**Focusing on Texture & Uniqueness:**\n\n*   **Textured Blooms:** (Highlights the tactile quality)\n*   **The Dried Garden:** (Creates a sense of abundance and variety)\n*   **Whispering Petals:** (Evocative and suggests a delicate beauty)\n*   **The Rustic Bloom:** (Emphasizes a natural, unrefined aesthetic)\n*   **Gather & Bloom:** (Simple and evocative)\n\n**Vintage & Nostalgic:**\n\n*   **The Vintage Bloom:** (Classic and appealing to a certain aesthetic)\n*   **Heirloom Blooms:** (Suggests a cherished and passed-down quality)\n*   **Dried Delights:** (Playful and old-fashioned)\n*   **The Apothecary Bloom:** (Intriguing and hints at a collection of dried herbs and flowers)\n\n**Modern & Minimalist:**\n\n*   **Dry Bloom:** (Short, simple, and modern)\n*   **The Dried Flower Co.:** (Clean and professional)\n*   **Studio Dried:** (Contemporary and design-focused)\n*   **Bloom & Stem (Dried):** (Clear and easy to understand)\n\n**Tips for Choosing the Best Name:**\n\n*   **Availability:** Check if the name is available as a website domain and social media handle.\n*   **Target Audience:** Consider who you're trying to attract. A more sophisticated name might appeal to a different clientele than a rustic one.\n*   **Memorability:** Is the name easy to remember and pronounce?\n*   **Brand Identity:** Does the name align with the overall aesthetic and feeling you want to create for your shop?\n*   **Location:** Think about including the town or neighborhood name in the shop name.\n*   **Unique Selling Proposition:** What makes you different from other flower shops that sell dried flowers?\n\nI personally like **The Everbloom Studio** or **The Still Life Florist**, depending on the artistic direction of the shop. I hope this gives you a good starting point! Good luck!\n"
          },
          "metadata": {}
        }
      ],
      "source": [
        "prompt = \"What do you think could be a good name for a flower shop that specializes in selling bouquets of dried flowers more than fresh flowers?\"\n",
        "\n",
        "response = client.models.generate_content(model=MODEL_ID, contents=prompt)\n",
        "display(Markdown(response.text))"
      ]
    },
    {
      "cell_type": "markdown",
      "metadata": {
        "id": "YrJexRHJYnmC"
      },
      "source": [
        "✅ Recommended. The prompt below is to the point and concise."
      ]
    },
    {
      "cell_type": "code",
      "execution_count": 22,
      "metadata": {
        "id": "VHetn9lCYrXB",
        "colab": {
          "base_uri": "https://localhost:8080/",
          "height": 814
        },
        "outputId": "9582ddce-e348-48a8-b279-2c59e1323082"
      },
      "outputs": [
        {
          "output_type": "display_data",
          "data": {
            "text/plain": [
              "<IPython.core.display.Markdown object>"
            ],
            "text/markdown": "Okay, here are some name suggestions for a dried flower shop, playing on different angles like the longevity, artistry, rustic charm, and modern appeal of dried flowers:\n\n**Emphasizing Longevity & Preservation:**\n\n*   **The Everbloom:** Classic and emphasizes lasting beauty.\n*   **Lasting Petals:** Simple, direct, and memorable.\n*   **Preserved Posies:** Highlights the preservation process and cuteness.\n*   **The Still Life Florist:** Evokes artistic stillness and enduring beauty.\n*   **Timeless Blooms:** Speaks to the enduring nature of dried flowers.\n*   **Eternal Flora:** A bit more dramatic and emphasizes forever lasting.\n\n**Emphasizing Artistry & Craft:**\n\n*   **The Dried Stem:** Simple, modern, and focuses on the material.\n*   **Petal & Plume:** Suggests delicate artistry.\n*   **The Floral Alchemist:** Implies transformation and skill.\n*   **Dried & Designed:** Clear and focuses on the arrangement.\n*   **The Botanical Atelier:** A sophisticated, workshop-inspired name.\n*   **Flourish & Fade:** A more poetic name that acknowledges the life cycle.\n\n**Emphasizing Rustic Charm & Natural Beauty:**\n\n*   **The Wildflower Stillage:** Evokes a rustic, natural feel.\n*   **Prairie Petals:** Suggests natural, open fields.\n*   **The Rustic Bloom:** Simple and charming.\n*   **Harvest Hues:** Focuses on the colors and gathering aspect.\n*   **Sunbaked Stems:** Paints a picture of sun-dried beauty.\n\n**Emphasizing Modern Appeal & Style:**\n\n*   **Dry Goods Florals:** A play on words with a modern, curated feel.\n*   **The Dried Edit:** Suggests a carefully selected collection.\n*   **Unwilted:** Short, punchy, and modern.\n*   **The Modern Bloom:** A clean and contemporary name.\n*   **Studio Dried:** A minimalist, design-focused name.\n\n**Creative & Unique:**\n\n*   **The Scent of Yesterday:** Evokes nostalgia and memories.\n*   **The Paper Garden:** Suggests the delicate, papery texture.\n*   **Whispers of Bloom:** A more subtle and poetic name.\n*   **Second Bloom:** Implies giving flowers a second life.\n*   **Bloomback:** A catchy, modern name that hints at revival.\n\n**Tips for Choosing:**\n\n*   **Consider your target audience:** Are you aiming for a high-end, modern clientele or a more rustic, vintage-loving crowd?\n*   **Check for availability:** Make sure the name isn't already in use, and that you can secure a website domain and social media handles.\n*   **Say it out loud:** Does it sound good? Is it easy to remember?\n*   **Get feedback:** Ask friends, family, or potential customers for their opinions.\n\nI hope this helps! Good luck with your flower shop!\n"
          },
          "metadata": {}
        }
      ],
      "source": [
        "prompt = \"Suggest a name for a flower shop that sells bouquets of dried flowers\"\n",
        "\n",
        "response = client.models.generate_content(model=MODEL_ID, contents=prompt)\n",
        "display(Markdown(response.text))"
      ]
    },
    {
      "cell_type": "markdown",
      "metadata": {
        "id": "eXTAvdOHY0OC"
      },
      "source": [
        "### Be specific, and well-defined"
      ]
    },
    {
      "cell_type": "markdown",
      "metadata": {
        "id": "FTH4GEIgY1dp"
      },
      "source": [
        "Suppose that you want to brainstorm creative ways to describe Earth."
      ]
    },
    {
      "cell_type": "markdown",
      "metadata": {
        "id": "o5BmXBiGY4KC"
      },
      "source": [
        "🛑 The prompt below might be a bit too generic (which is certainly OK if you'd like to ask a generic question!)"
      ]
    },
    {
      "cell_type": "code",
      "execution_count": 23,
      "metadata": {
        "id": "eHBaMvv7Y6mR",
        "colab": {
          "base_uri": "https://localhost:8080/",
          "height": 925
        },
        "outputId": "ce3df0bb-3df2-49d8-beae-a49a969ff9c3"
      },
      "outputs": [
        {
          "output_type": "display_data",
          "data": {
            "text/plain": [
              "<IPython.core.display.Markdown object>"
            ],
            "text/markdown": "Alright, let's dive into some fascinating facts about Earth! Here's a breakdown covering its basics, key features, and some interesting tidbits:\n\n**Basic Stats:**\n\n*   **Name:** Earth (the only planet not named after a Greek or Roman deity)\n*   **Diameter:** Roughly 12,742 kilometers (7,918 miles) at the equator\n*   **Circumference:** Approximately 40,075 kilometers (24,901 miles) at the equator\n*   **Mass:** 5.97 x 10^24 kg (a very, very big number!)\n*   **Density:** The densest planet in our solar system.\n*   **Orbit:** 365.25 days (the reason we have leap years!)\n*   **Rotation:** 24 hours (approximately, leading to day and night)\n*   **Distance from Sun:** About 149.6 million kilometers (93 million miles) - This is defined as one Astronomical Unit (AU).\n*   **Moons:** 1 (The Moon, often just called \"the Moon\")\n*   **Atmosphere:** Primarily nitrogen (about 78%) and oxygen (about 21%), with traces of other gases like argon, carbon dioxide, and water vapor.\n\n**Key Features:**\n\n*   **Liquid Water:**  The most distinctive feature. Earth is the only known planet with stable bodies of liquid water on its surface. This is essential for life as we know it.\n*   **Life:** Earth is the only known planet to harbor life.  The diversity of life is astounding, from microscopic bacteria to giant whales.\n*   **Plate Tectonics:** The Earth's surface is divided into several large and small plates that slowly move and interact, causing earthquakes, volcanoes, and mountain formation.\n*   **Magnetic Field:** Generated by the Earth's molten iron core, the magnetic field protects us from harmful solar radiation.\n*   **Atmosphere:**  Provides breathable air, protects us from harmful radiation, and regulates temperature. The atmosphere also creates weather patterns.\n*   **Ozone Layer:** A region within the stratosphere that absorbs most of the Sun's harmful ultraviolet (UV) radiation.\n*   **Geological Activity:** Earth is a geologically active planet with volcanoes, earthquakes, and erosion constantly reshaping the surface.\n*   **Composition:** The Earth consists of four layers:\n    *   **Inner Core:** Solid iron and nickel.\n    *   **Outer Core:** Liquid iron and nickel.\n    *   **Mantle:** A thick layer of mostly solid rock.\n    *   **Crust:** The outermost layer, relatively thin and brittle.\n*   **Mountains, Valleys, and Canyons:** Earth has a highly varied topography.\n*   **Ice Caps and Glaciers:** Significant amounts of water are locked up in ice, particularly at the poles.\n*   **Seasons:** The Earth's axial tilt (about 23.5 degrees) causes seasons as different parts of the planet receive more direct sunlight during the year.\n\n**Some Interesting Tidbits:**\n\n*   **Age:** Approximately 4.54 billion years old.\n*   **Origin of Name:** \"Earth\" comes from the Old English words \"eorþe\" and \"erda,\" meaning ground or soil.\n*   **The \"Goldilocks\" Planet:** Earth is often called the \"Goldilocks planet\" because its distance from the sun and its atmospheric conditions are \"just right\" for liquid water and life.\n*   **Continents:** Earth has seven continents: Africa, Antarctica, Asia, Australia, Europe, North America, and South America.\n*   **Oceans:** The Earth has five major oceans: the Arctic, Atlantic, Indian, Pacific, and Southern Oceans.\n*   **Highest Point:** Mount Everest, in the Himalayas.\n*   **Deepest Point:** Challenger Deep in the Mariana Trench in the Pacific Ocean.\n*   **Human Impact:**  Human activities are significantly impacting the Earth's climate and environment.  This includes climate change, deforestation, pollution, and species extinction.\n*   **Earth Day:** Celebrated annually on April 22nd to raise awareness about environmental protection.\n\n**In Conclusion:**\n\nEarth is a unique and complex planet, constantly changing and evolving.  Its unique combination of features has allowed life to flourish. Understanding Earth and its processes is crucial for preserving our planet for future generations.\n\nIs there anything specific you'd like to know more about? For example, are you interested in the Earth's climate, geology, or the history of life?  I can provide more information on any of these topics!\n"
          },
          "metadata": {}
        }
      ],
      "source": [
        "prompt = \"Tell me about Earth\"\n",
        "\n",
        "response = client.models.generate_content(model=MODEL_ID, contents=prompt)\n",
        "display(Markdown(response.text))"
      ]
    },
    {
      "cell_type": "markdown",
      "metadata": {
        "id": "4iyvEbteZnFL"
      },
      "source": [
        "✅ Recommended. The prompt below is specific and well-defined."
      ]
    },
    {
      "cell_type": "code",
      "execution_count": 24,
      "metadata": {
        "id": "JQ80z8urZnne",
        "colab": {
          "base_uri": "https://localhost:8080/",
          "height": 656
        },
        "outputId": "6640bbff-1e4b-4d6f-9fcb-883ecfa3b5c4"
      },
      "outputs": [
        {
          "output_type": "display_data",
          "data": {
            "text/plain": [
              "<IPython.core.display.Markdown object>"
            ],
            "text/markdown": "Okay, here's a list of features that make Earth unique compared to other planets we know of, focusing on what sets it apart:\n\n**Essential for Life:**\n\n*   **Liquid Water on the Surface:**  While water ice exists on other planets and moons, and subsurface oceans are suspected, Earth is the only known planet with stable, abundant liquid water on its surface. This is crucial for the types of life we know.\n*   **Oxygen-Rich Atmosphere:** Earth's atmosphere is approximately 21% oxygen, a byproduct of photosynthesis.  This is a far higher concentration than any other planet in our solar system and is essential for complex life forms like animals.\n*   **Life:** As far as we currently know, Earth is the only planet harboring life. This is the most significant and unique characteristic.\n\n**Geological and Physical Properties:**\n\n*   **Plate Tectonics:** Earth has a dynamic, fractured crust divided into plates that move and interact. This process is crucial for regulating the carbon cycle, creating diverse landscapes, and driving geological activity. While some evidence suggests past or present plate-like activity on other celestial bodies, Earth is the only one with confirmed active plate tectonics.\n*   **Strong Magnetic Field:** Generated by the Earth's liquid iron core, the magnetic field deflects harmful solar wind and cosmic radiation, protecting the atmosphere and life. While some other planets have magnetic fields, Earth's is particularly strong.\n*   **Moderate Temperature Range:**  Earth's distance from the Sun and its atmosphere create a temperature range that allows liquid water to exist and supports life. While other planets may have pockets of potentially habitable temperatures, Earth's is global and stable.\n*   **Presence of a Large Moon:** The Moon stabilizes Earth's axial tilt, preventing extreme climate variations over long periods. It also influences tides and may have played a role in the early development of life.  While other planets have moons, Earth's Moon is unusually large relative to its planet's size.\n\n**Atmospheric and Chemical Composition:**\n\n*   **Complex and Dynamic Atmosphere:** Earth's atmosphere is not just a mixture of gases; it's a complex, layered system with weather patterns, cloud formation, and a delicate balance of chemical compounds.\n*   **Ozone Layer:**  This layer in the stratosphere absorbs harmful ultraviolet radiation from the Sun, protecting life on the surface.\n*   **Water Cycle:**  The continuous cycle of evaporation, condensation, and precipitation is unique in its scale and importance to Earth's climate and ecosystems.\n\n**Other Considerations:**\n\n*   **Diversity of Ecosystems:** Earth boasts an unparalleled diversity of ecosystems, from rainforests and deserts to oceans and polar regions, each supporting unique communities of life.\n*   **Presence of Intelligent Life:**  Humans, with their capacity for complex thought, technology, and culture, are a unique feature of Earth (as far as we know!).\n\n**Important Considerations:**\n\n*   **Our Limited Perspective:** Our understanding of planets is still limited. We've only thoroughly studied our own solar system and have just begun to explore exoplanets. What we consider unique to Earth may be more common than we currently realize.\n*   **Defining \"Unique\":** The term \"unique\" can be subjective. Other planets may have some of these features to a lesser extent, or have features we haven't yet discovered that are equally remarkable.\n\nThis list represents what we currently know. As our understanding of the universe expands, our perception of Earth's uniqueness may evolve.\n"
          },
          "metadata": {}
        }
      ],
      "source": [
        "prompt = \"Generate a list of ways that makes Earth unique compared to other planets\"\n",
        "\n",
        "response = client.models.generate_content(model=MODEL_ID, contents=prompt)\n",
        "display(Markdown(response.text))"
      ]
    },
    {
      "cell_type": "markdown",
      "metadata": {
        "id": "R5kmfZYHZsJ7"
      },
      "source": [
        "### Ask one task at a time"
      ]
    },
    {
      "cell_type": "markdown",
      "metadata": {
        "id": "rsAezxeYZuUN"
      },
      "source": [
        "🛑 Not recommended. The prompt below has two parts to the question that could be asked separately."
      ]
    },
    {
      "cell_type": "code",
      "execution_count": 25,
      "metadata": {
        "id": "ElywPXpuZtWf",
        "colab": {
          "base_uri": "https://localhost:8080/",
          "height": 1000
        },
        "outputId": "9772ef6e-b60b-4c93-df4f-c3a1d7cf93d2"
      },
      "outputs": [
        {
          "output_type": "display_data",
          "data": {
            "text/plain": [
              "<IPython.core.display.Markdown object>"
            ],
            "text/markdown": "Let's tackle both questions:\n\n**Best Method of Boiling Water**\n\n\"Best\" is subjective and depends on your priorities and available resources. Here's a breakdown of common methods and their pros/cons:\n\n*   **Electric Kettle:**\n    *   **Pros:** Fast, energy-efficient (especially variable-temperature kettles that only heat to the desired temperature), convenient (often with auto shut-off), relatively safe.  Great for home use.\n    *   **Cons:** Requires electricity, kettle can be another appliance taking up counter space.\n\n*   **Stovetop Kettle (Gas or Electric):**\n    *   **Pros:** Relatively fast, works with gas or electric stoves, no need for an outlet near the kettle (gas stove). Often inexpensive.\n    *   **Cons:** Requires monitoring, can be less energy-efficient than an electric kettle, potential burn hazard if the kettle isn't designed well or if you forget about it.\n\n*   **Microwave Oven:**\n    *   **Pros:** Fast, readily available in many homes.\n    *   **Cons:**  **Can be dangerous.** Water heated in a microwave can become \"superheated\" – meaning it heats above its boiling point without forming bubbles. When disturbed (e.g., when you move the cup or add something to the water), it can suddenly and violently boil, causing burns. Also, not suitable for metal containers. Uneven heating is also a potential issue.\n\n*   **Induction Cooktop with a Pot/Kettle:**\n    *   **Pros:** Very fast, very energy-efficient (heats the pot directly), precise temperature control (on some models), safer than gas or electric coil because the surface doesn't get as hot.\n    *   **Cons:** Requires induction-compatible cookware, can be expensive.\n\n*   **Open Fire (Campfire/Wood Stove):**\n    *   **Pros:** Useful in situations where you have no other options (camping, power outages).\n    *   **Cons:** Slow, inefficient, requires a heat-safe container (not plastic!), hard to control the temperature, can be dangerous due to the open flame and hot container, requires significant effort to collect and manage the fuel.\n\n*   **Immersion Heater:**\n    *   **Pros:** Portable, useful for heating small amounts of water.\n    *   **Cons:** Can be dangerous if not used properly (risk of electric shock), requires careful handling, only suitable for certain containers.\n\n**Therefore, for everyday home use, an electric kettle is often the best balance of speed, convenience, and safety.**  However, for camping, a stove top kettle with a portable camping stove, or boiling water over a campfire are the go-to options.\n\n**Why is the Sky Blue?**\n\nThe sky is blue because of a phenomenon called **Rayleigh scattering**.  Here's the breakdown:\n\n1.  **Sunlight and Colors:** Sunlight is actually made up of all the colors of the rainbow.\n\n2.  **Entering the Atmosphere:** When sunlight enters the Earth's atmosphere, it collides with air molecules (mostly nitrogen and oxygen).\n\n3.  **Scattering:** These collisions cause the light to scatter in different directions.  The amount of scattering depends on the wavelength (color) of the light.\n\n4.  **Rayleigh Scattering and Wavelength:**  Rayleigh scattering is much more effective at scattering shorter wavelengths of light (blue and violet) than longer wavelengths (red, orange, yellow).  This is because the shorter wavelengths have a better \"fit\" for interacting with the tiny air molecules.\n\n5.  **Why Not Violet?** Violet light is scattered even *more* than blue light. However, there are a couple of reasons why we see blue instead of violet:\n    *   The sun emits less violet light than blue light.\n    *   Our eyes are more sensitive to blue light than violet light.\n\n6.  **Our Perception:** Because blue light is scattered much more effectively, it reaches our eyes from all directions in the sky. This is why we perceive the sky as blue.\n\n**In summary, the sky appears blue because the shorter wavelengths of blue light are scattered more strongly by air molecules in the atmosphere than longer wavelengths like red or yellow, a phenomenon known as Rayleigh scattering.**\n\n**Why Sunsets are Red/Orange**\n\nAt sunset and sunrise, the sunlight has to travel through more of the Earth's atmosphere to reach our eyes. This means that most of the blue light has already been scattered away before it gets to us.  Only the longer wavelengths of light, such as red and orange, are able to penetrate through the atmosphere and reach our eyes, giving us those beautiful sunset colors.\n"
          },
          "metadata": {}
        }
      ],
      "source": [
        "prompt = \"What's the best method of boiling water and why is the sky blue?\"\n",
        "\n",
        "response = client.models.generate_content(model=MODEL_ID, contents=prompt)\n",
        "display(Markdown(response.text))"
      ]
    },
    {
      "cell_type": "markdown",
      "metadata": {
        "id": "ejzahazBZ8vk"
      },
      "source": [
        "✅ Recommended. The prompts below asks one task a time."
      ]
    },
    {
      "cell_type": "code",
      "execution_count": 26,
      "metadata": {
        "id": "C5ckp2F0Z_Ba",
        "colab": {
          "base_uri": "https://localhost:8080/",
          "height": 1000
        },
        "outputId": "3f0d67cc-5cd0-446f-8651-75f3cc68cd34"
      },
      "outputs": [
        {
          "output_type": "display_data",
          "data": {
            "text/plain": [
              "<IPython.core.display.Markdown object>"
            ],
            "text/markdown": "The \"best\" method of boiling water depends on your priorities: speed, energy efficiency, cost, and convenience. Here's a breakdown:\n\n**1. Electric Kettle:**\n\n*   **Pros:**\n    *   **Speed:** Typically the fastest way to boil small to medium amounts of water.\n    *   **Energy Efficiency:**  Generally more efficient than stovetop methods, especially for small quantities. They heat only the water, and some models have automatic shut-off.\n    *   **Convenience:** Easy to use, often with auto shut-off and cordless designs.\n    *   **Safety:** Many have automatic shut-off and boil-dry protection.\n*   **Cons:**\n    *   **Capacity:** Usually limited to a specific amount of water (e.g., 1.7 liters).\n    *   **Corded vs. Cordless:** Corded models can be less convenient.\n    *   **Price:** Can range from affordable to quite expensive, depending on features.\n*   **Best For:** Most everyday situations where you need boiling water quickly (tea, coffee, instant noodles, etc.).\n\n**2. Stovetop (Pot on a Gas or Electric Stove):**\n\n*   **Pros:**\n    *   **Capacity:** Can boil larger quantities of water than most electric kettles.\n    *   **Versatility:**  Uses a pot you already own.\n    *   **Cost:** No special appliance to buy.\n*   **Cons:**\n    *   **Speed:** Generally slower than electric kettles.\n    *   **Energy Efficiency:** Less efficient than electric kettles because energy is lost to heating the pot and the surrounding air.\n    *   **Safety:** Requires more attention to avoid boil-over or burning.\n    *   **Convenience:** Requires manual monitoring.\n*   **Best For:** Boiling large quantities of water (pasta water, canning), or if you don't own an electric kettle.\n\n**3. Microwave:**\n\n*   **Pros:**\n    *   **Speed:** Can be faster than stovetop for small amounts of water.\n    *   **Convenience:** Easy to use.\n*   **Cons:**\n    *   **Uneven Heating:** Can create \"superheated\" water, which can suddenly erupt and cause burns. Always use a microwave-safe container and add a wooden stick or something similar to help prevent that.\n    *   **Not Ideal for Large Quantities:** Best for very small amounts of water.\n    *   **Energy Efficiency:**  Similar to stovetop.\n    *   **Flavor Concerns:** Some people believe microwaving water can affect its taste.\n*   **Best For:** Very small amounts of water in a pinch, but generally not recommended as the primary method.\n\n**4. Induction Cooktop (Pot on an Induction Stove):**\n\n*   **Pros:**\n    *   **Speed:** Can be very fast, especially with compatible cookware.\n    *   **Energy Efficiency:** More efficient than standard electric stovetops, as they heat the pot directly.\n    *   **Precise Temperature Control:** Can be more precise than gas.\n*   **Cons:**\n    *   **Requires Induction-Compatible Cookware:** Regular pots might not work.\n    *   **Cost:** Induction cooktops can be more expensive than other stovetop options.\n*   **Best For:** Similar to stovetop, but faster and more energy-efficient if you have the equipment.\n\n**5. Campfire/Open Fire:**\n\n*   **Pros:**\n    *   **Useful in Outdoor Situations:**  When you don't have electricity.\n    *   **Primitive Skill:** Can be a fun and rewarding experience.\n*   **Cons:**\n    *   **Slow:**  Time consuming and reliant on weather conditions.\n    *   **Requires Skill:** Requires building and maintaining a fire.\n    *   **Safety Concerns:** Fire hazards, potential for burns.\n    *   **Pot Cleaning:** Can leave soot and residue on your pot.\n*   **Best For:** Camping, outdoor survival situations, or when you specifically want the experience.\n\n**Summary Table:**\n\n| Method             | Speed       | Energy Efficiency | Convenience | Best For                                                               |\n|---------------------|-------------|--------------------|-------------|-------------------------------------------------------------------------|\n| Electric Kettle    | Very Fast    | Very High         | High        | Everyday use, small to medium quantities                                 |\n| Stovetop           | Medium      | Medium            | Medium      | Large quantities, lack of kettle                                       |\n| Microwave          | Fast (small) | Medium            | High        | Very small amounts, in a pinch (use caution!)                            |\n| Induction Cooktop | Fast        | High              | Medium      | Similar to stovetop, but faster if you have the right equipment         |\n| Campfire           | Slow        | Low               | Low         | Camping, survival situations                                             |\n\n**Therefore, the best method for *most* people in *most* situations is an electric kettle.** It balances speed, energy efficiency, and convenience effectively.\n"
          },
          "metadata": {}
        }
      ],
      "source": [
        "prompt = \"What's the best method of boiling water?\"\n",
        "\n",
        "response = client.models.generate_content(model=MODEL_ID, contents=prompt)\n",
        "display(Markdown(response.text))"
      ]
    },
    {
      "cell_type": "code",
      "execution_count": 27,
      "metadata": {
        "id": "KwUzhud4aA89",
        "colab": {
          "base_uri": "https://localhost:8080/",
          "height": 320
        },
        "outputId": "6c0bc644-77a1-4eae-ff26-e3d701f9c274"
      },
      "outputs": [
        {
          "output_type": "display_data",
          "data": {
            "text/plain": [
              "<IPython.core.display.Markdown object>"
            ],
            "text/markdown": "The sky is blue because of a phenomenon called **Rayleigh scattering**. Here's a breakdown:\n\n*   **Sunlight and its colors:** Sunlight is actually made up of all the colors of the rainbow.\n\n*   **Entering the atmosphere:** When sunlight enters the Earth's atmosphere, it collides with tiny air molecules (mostly nitrogen and oxygen).\n\n*   **Scattering of light:** This collision causes the sunlight to scatter in different directions.\n\n*   **Rayleigh scattering:** Rayleigh scattering is more effective at shorter wavelengths. Blue and violet light have shorter wavelengths than other colors like red and orange.\n\n*   **Why blue, not violet?:** While violet is scattered even more than blue, there's less violet light in sunlight to begin with. Additionally, our eyes are more sensitive to blue light than violet.\n\n*   **Therefore:** Because blue light is scattered more effectively than other colors, we see blue light coming from all directions in the sky, making the sky appear blue.\n\n**In short:** The air molecules scatter sunlight, and blue light is scattered more than other colors, making the sky look blue.\n\n**Why sunsets are red:**\nAt sunrise and sunset, the sunlight has to travel through more of the atmosphere to reach us. This means that most of the blue light is scattered away before it gets to our eyes. The longer wavelengths, like red and orange, are less likely to be scattered, so they make it through, giving us those beautiful red and orange sunsets.\n"
          },
          "metadata": {}
        }
      ],
      "source": [
        "prompt = \"Why is the sky blue?\"\n",
        "\n",
        "response = client.models.generate_content(model=MODEL_ID, contents=prompt)\n",
        "display(Markdown(response.text))"
      ]
    },
    {
      "cell_type": "markdown",
      "metadata": {
        "id": "PJIL2RTQaGcT"
      },
      "source": [
        "### Watch out for hallucinations"
      ]
    },
    {
      "cell_type": "markdown",
      "metadata": {
        "id": "8Y8kYxrSaHE9"
      },
      "source": [
        "Although LLMs have been trained on a large amount of data, they can generate text containing statements not grounded in truth or reality; these responses from the LLM are often referred to as \"hallucinations\" due to their limited memorization capabilities. Note that simply prompting the LLM to provide a citation isn't a fix to this problem, as there are instances of LLMs providing false or inaccurate citations. Dealing with hallucinations is a fundamental challenge of LLMs and an ongoing research area, so it is important to be cognizant that LLMs may seem to give you confident, correct-sounding statements that are in fact incorrect.\n",
        "\n",
        "Note that if you intend to use LLMs for the creative use cases, hallucinating could actually be quite useful."
      ]
    },
    {
      "cell_type": "markdown",
      "metadata": {
        "id": "8NY5nAGeaJYS"
      },
      "source": [
        "Try the prompt like the one below repeatedly. We set the temperature to `1.0` so that it takes more risks in its choices. It's possible that it may provide an inaccurate, but confident answer."
      ]
    },
    {
      "cell_type": "code",
      "execution_count": 28,
      "metadata": {
        "id": "QALPjEILaM62",
        "colab": {
          "base_uri": "https://localhost:8080/",
          "height": 46
        },
        "outputId": "24113bef-e438-4aa9-e434-ad0407fc6d1e"
      },
      "outputs": [
        {
          "output_type": "display_data",
          "data": {
            "text/plain": [
              "<IPython.core.display.Markdown object>"
            ],
            "text/markdown": "Today is Saturday, November 18, 2023.\n"
          },
          "metadata": {}
        }
      ],
      "source": [
        "generation_config = GenerateContentConfig(temperature=1.0)\n",
        "\n",
        "prompt = \"What day is it today?\"\n",
        "\n",
        "response = client.models.generate_content(model=MODEL_ID, contents=prompt)\n",
        "display(Markdown(response.text))"
      ]
    },
    {
      "cell_type": "markdown",
      "metadata": {
        "id": "BRkwzbgRbhKt"
      },
      "source": [
        "Since LLMs do not have access to real-time information without further integrations, you may have noticed it hallucinates what day it is today in some of the outputs."
      ]
    },
    {
      "cell_type": "markdown",
      "metadata": {
        "id": "3c811e310d02"
      },
      "source": [
        "### Using system instructions to guardrail the model from irrelevant responses\n",
        "\n",
        "How can we attempt to reduce the chances of irrelevant responses and hallucinations?\n",
        "\n",
        "One way is to provide the LLM with [system instructions](https://cloud.google.com/vertex-ai/generative-ai/docs/learn/prompts/system-instruction-introduction).\n",
        "\n",
        "Let's see how system instructions works and how you can use them to reduce hallucinations or irrelevant questions for a travel chatbot.\n",
        "\n",
        "Suppose we ask a simple question about one of Italy's most famous tourist spots."
      ]
    },
    {
      "cell_type": "code",
      "execution_count": 29,
      "metadata": {
        "id": "rB6zJU76biFK",
        "colab": {
          "base_uri": "https://localhost:8080/",
          "height": 64
        },
        "outputId": "426da2d8-4826-4ab1-b708-d8638f21c138"
      },
      "outputs": [
        {
          "output_type": "display_data",
          "data": {
            "text/plain": [
              "<IPython.core.display.Markdown object>"
            ],
            "text/markdown": "The Duomo di Milano, or Milan Cathedral, is a must-see. It is one of the largest cathedrals in the world and a stunning example of Gothic architecture. You can take an elevator to the roof for city views.\n"
          },
          "metadata": {}
        }
      ],
      "source": [
        "generation_config = GenerateContentConfig(temperature=1.0)\n",
        "\n",
        "chat = client.chats.create(\n",
        "    model=MODEL_ID,\n",
        "    config=GenerateContentConfig(\n",
        "        system_instruction=[\n",
        "            \"Hello! You are an AI chatbot for a travel web site.\",\n",
        "            \"Your mission is to provide helpful queries for travelers.\",\n",
        "            \"Remember that before you answer a question, you must check to see if it complies with your mission.\",\n",
        "            \"If not, you can say, Sorry I can't answer that question.\",\n",
        "        ]\n",
        "    ),\n",
        ")\n",
        "\n",
        "prompt = \"What is the best place for sightseeing in Milan, Italy?\"\n",
        "\n",
        "response = chat.send_message(prompt)\n",
        "display(Markdown(response.text))"
      ]
    },
    {
      "cell_type": "markdown",
      "metadata": {
        "id": "WZa-Qcf9cF4A"
      },
      "source": [
        "Now let us pretend to be a user asks the chatbot a question that is unrelated to travel."
      ]
    },
    {
      "cell_type": "code",
      "source": [
        "prompt2 = \"What is the best gelato flavor ?\"\n",
        "\n",
        "response = chat.send_message(prompt2)\n",
        "display(Markdown(response.text))"
      ],
      "metadata": {
        "colab": {
          "base_uri": "https://localhost:8080/",
          "height": 46
        },
        "id": "RYwGJ4MUI9HO",
        "outputId": "56dfb6a8-36a2-477a-972f-083a434c52d9"
      },
      "execution_count": 30,
      "outputs": [
        {
          "output_type": "display_data",
          "data": {
            "text/plain": [
              "<IPython.core.display.Markdown object>"
            ],
            "text/markdown": "Sorry, I can't answer that question.\n"
          },
          "metadata": {}
        }
      ]
    },
    {
      "cell_type": "code",
      "execution_count": 31,
      "metadata": {
        "id": "AZKBIDr2cGnu",
        "colab": {
          "base_uri": "https://localhost:8080/",
          "height": 46
        },
        "outputId": "b84aa9f6-09e9-4521-9d20-84c25afe8d8f"
      },
      "outputs": [
        {
          "output_type": "display_data",
          "data": {
            "text/plain": [
              "<IPython.core.display.Markdown object>"
            ],
            "text/markdown": "Sorry, I can't answer that question.\n"
          },
          "metadata": {}
        }
      ],
      "source": [
        "prompt = \"How do I make pizza dough at home?\"\n",
        "\n",
        "response = chat.send_message(prompt)\n",
        "display(Markdown(response.text))"
      ]
    },
    {
      "cell_type": "markdown",
      "metadata": {
        "id": "JiUYIhwpctCy"
      },
      "source": [
        "You can see that this way, a guardrail in the prompt prevented the chatbot from veering off course."
      ]
    },
    {
      "cell_type": "markdown",
      "metadata": {
        "id": "ZuuDhA37cvmP"
      },
      "source": [
        "### Turn generative tasks into classification tasks to reduce output variability"
      ]
    },
    {
      "cell_type": "markdown",
      "metadata": {
        "id": "kUCUrsUzczmb"
      },
      "source": [
        "#### Generative tasks lead to higher output variability"
      ]
    },
    {
      "cell_type": "markdown",
      "metadata": {
        "id": "a1xASHAkc46n"
      },
      "source": [
        "The prompt below results in an open-ended response, useful for brainstorming, but response is highly variable."
      ]
    },
    {
      "cell_type": "code",
      "execution_count": 32,
      "metadata": {
        "id": "nPfXQWIacwRf",
        "colab": {
          "base_uri": "https://localhost:8080/",
          "height": 1000
        },
        "outputId": "a15c6d98-8a15-489e-b2c9-a1431fd39755"
      },
      "outputs": [
        {
          "output_type": "display_data",
          "data": {
            "text/plain": [
              "<IPython.core.display.Markdown object>"
            ],
            "text/markdown": "Okay, here's a recommendation for a programming activity tailored for a high school student looking to improve their skills, along with different difficulty levels and languages:\n\n**Project Idea:  A Text-Based Adventure Game**\n\nThis project is great because:\n\n*   **It's engaging:** Adventure games are fun, and you'll be motivated to create something you can actually play.\n*   **It covers a wide range of concepts:**  You'll need to use variables, conditional statements (if/else), loops, functions/methods, input/output, and potentially data structures like lists or dictionaries.\n*   **It's scalable:**  You can start with a very simple game and gradually add complexity as you learn.\n*   **It's language-agnostic:** You can implement it in almost any language.\n\n**Here's a breakdown by difficulty and potential languages:**\n\n**Beginner Level:**\n\n*   **Language:** Python (easiest to learn and get started with)\n*   **Core Features:**\n    *   **Single Room:** The entire game takes place in one location.\n    *   **Limited Actions:**  The player can only do a few things (e.g., \"look,\" \"take key,\" \"open door\").\n    *   **Simple Story:**  The goal is straightforward (e.g., escape the room).\n    *   **Text-Based Input/Output:**  The player types commands, and the game prints descriptions.\n*   **Example Scenario:**\n    ```\n    You are in a dark room.  There is a table, a door, and a window.\n    > look\n    You see a rusty key on the table.\n    > take key\n    You pick up the rusty key.\n    > open door\n    The door is locked.\n    > use key on door\n    The door creaks open! You escape the room.  You win!\n    ```\n*   **Key Concepts to Learn:**\n    *   `print()` (outputting text)\n    *   `input()` (getting player commands)\n    *   `if/elif/else` (handling different commands)\n    *   Variables (tracking the player's inventory, the state of objects)\n    *   Basic string manipulation\n\n**Intermediate Level:**\n\n*   **Language:** Python, Java, C# (Python is still a good choice, but Java or C# will introduce you to object-oriented programming)\n*   **Added Features:**\n    *   **Multiple Rooms:** The player can move between connected rooms.\n    *   **Inventory:**  The player can collect and use items.\n    *   **More Complex Puzzles:**  Require multiple steps or logic.\n    *   **Basic Combat (Optional):** Introduce enemies and a simple combat system.\n*   **Example Scenario (Extending the Beginner):**\n    ```\n    You are in a dark room. There is a table, a door, and a window.\n    > look\n    You see a rusty key on the table and a dusty rug on the floor.\n    > take key\n    You pick up the rusty key.\n    > go north\n    The door is locked.\n    > use key on door\n    The door creaks open! You are now in a hallway.\n    > look\n    The hallway stretches to the east and west.  You see a guard standing at the end of the hallway to the east.\n    > go east\n    The guard blocks your path! \"Halt! Who goes there?\"\n    > talk to guard\n    The guard says, \"I need a password to let you pass.\"\n    ```\n*   **Key Concepts to Learn:**\n    *   **Functions/Methods:**  To organize your code into reusable blocks (e.g., `describe_room()`, `handle_command()`, `fight()`).\n    *   **Lists/Dictionaries:**  To store information about rooms, items, and enemies.  A dictionary can be used to represent rooms, mapping room names to descriptions and connections.\n    *   **Loops (while loops):** To keep the game running until the player wins or loses.\n    *   **Object-Oriented Programming (Java, C#):**  If you choose Java or C#, start thinking about representing rooms, items, and characters as objects with properties (attributes) and actions (methods).\n\n**Advanced Level:**\n\n*   **Language:** Java, C#, C++ (These languages provide more control and performance if you want to add more complex features).  Consider using a game library like Pygame (Python), SFML (C++), or a game engine like Unity (C#) for more advanced graphics (even if you keep it mostly text-based, these can help with input and organization).\n*   **Features:**\n    *   **More Complex World:**  Many rooms, interconnected in interesting ways.\n    *   **Non-Player Characters (NPCs):**  Characters the player can interact with.\n    *   **Dialogue Trees:**  More complex conversations with NPCs.\n    *   **Inventory Management:**  More sophisticated inventory system (weight limits, combining items).\n    *   **Combat System:**  More strategic combat with different weapons and abilities.\n    *   **Story and Quests:**  A more elaborate story with side quests and multiple endings.\n    *   **Saving/Loading:**  Allow the player to save their progress.\n*   **Key Concepts to Learn:**\n    *   **Data Structures:**  More advanced use of lists, dictionaries, and potentially sets or trees.\n    *   **File I/O:**  To save and load game data.\n    *   **Game Design Principles:**  Consider things like player motivation, challenge balance, and narrative design.\n    *   **Event Handling:**  (If using a game library/engine) How to respond to user input and game events.\n    *   **Design Patterns:**  (Optional) Learn common software design patterns (like the Observer pattern) to make your code more maintainable.\n\n**Steps to Get Started:**\n\n1.  **Choose a Language:**  Based on your current skills and interests.  Python is generally recommended for beginners.\n2.  **Set Up Your Development Environment:**\n    *   **Python:** Install Python (from python.org) and a text editor or IDE (Integrated Development Environment) like VS Code with the Python extension, or Thonny.\n    *   **Java:** Install the Java Development Kit (JDK) and an IDE like IntelliJ IDEA or Eclipse.\n    *   **C#:** Install the .NET SDK and an IDE like Visual Studio.\n    *   **C++:** Install a C++ compiler (like g++) and an IDE like VS Code or CLion.\n3.  **Start Small:**  Focus on the core features first.  Don't try to build the entire game at once.  Implement the single-room, limited-action version first.\n4.  **Break Down the Problem:**  Divide the project into smaller, manageable tasks.  For example:\n    *   \"Create the `describe_room()` function.\"\n    *   \"Implement the `take` command.\"\n    *   \"Add a new room.\"\n5.  **Test Frequently:**  Test your code after each small change to catch errors early.\n6.  **Use Resources:**\n    *   **Online Tutorials:**  Search for \"text-based adventure game tutorial [your language]\" on YouTube or Google.\n    *   **Documentation:**  Refer to the official documentation for your chosen language.\n    *   **Stack Overflow:**  A great resource for getting help with specific programming problems.\n7.  **Document Your Code:**  Add comments to explain what your code does.  This will help you (and others) understand it later.\n8.  **Version Control (Git):**  Learn how to use Git (with a service like GitHub) to track your changes and collaborate with others (if you want).\n\n**Example Python Code (Beginner - Single Room):**\n\n```python\ndef describe_room():\n    print(\"You are in a dark room. There is a table, a door, and a window.\")\n\ndef handle_command(command):\n    command = command.lower()  # Make commands case-insensitive\n\n    if command == \"look\":\n        print(\"You see a rusty key on the table.\")\n    elif command == \"take key\":\n        print(\"You pick up the rusty key.\")\n        global has_key  #  Needed to modify the global variable\n        has_key = True  # The player now has the key.\n    elif command == \"open door\":\n        if has_key:\n            print(\"The door creaks open! You escape the room. You win!\")\n            return True  # Game over\n        else:\n            print(\"The door is locked.\")\n    else:\n        print(\"I don't understand that command.\")\n    return False # Game continues\n\n\n# Game setup\nhas_key = False  # The player starts without the key.\ngame_over = False\n\n# Game loop\ndescribe_room()\nwhile not game_over:\n    command = input(\"> \")\n    game_over = handle_command(command)\n\nprint(\"Thanks for playing!\")\n```\n\n**Key Improvements in this Example:**\n\n*   **Global Variables:** The `has_key` variable is used to track if the player has the key.  Using `global` keyword inside the function allows the function to modify the global variable.\n*   **`handle_command` function:** Encapsulates the logic for processing player input.\n*   **Game Loop:** Uses a `while` loop to keep the game running until the player wins.\n*   **Case-Insensitive Commands:** The `.lower()` method makes the game less picky about capitalization.\n*   **Game Over Condition:**  The `handle_command` function returns `True` to signal the end of the game.\n*   **Clearer Structure:**  The code is more organized.\n\nRemember to start with the beginner level and gradually add complexity.  Good luck, and have fun! Let me know if you have any other questions.\n"
          },
          "metadata": {}
        }
      ],
      "source": [
        "prompt = \"I'm a high school student. Recommend me a programming activity to improve my skills.\"\n",
        "\n",
        "response = client.models.generate_content(model=MODEL_ID, contents=prompt)\n",
        "display(Markdown(response.text))"
      ]
    },
    {
      "cell_type": "markdown",
      "metadata": {
        "id": "iAmm9wPYc_1o"
      },
      "source": [
        "#### Classification tasks reduces output variability"
      ]
    },
    {
      "cell_type": "markdown",
      "metadata": {
        "id": "VvRpK_0GdCpf"
      },
      "source": [
        "The prompt below results in a choice and may be useful if you want the output to be easier to control."
      ]
    },
    {
      "cell_type": "code",
      "execution_count": 33,
      "metadata": {
        "id": "kYDKh0r2dAqo",
        "colab": {
          "base_uri": "https://localhost:8080/",
          "height": 1000
        },
        "outputId": "c1186ddb-5035-45ab-c084-4fd360aead05"
      },
      "outputs": [
        {
          "output_type": "display_data",
          "data": {
            "text/plain": [
              "<IPython.core.display.Markdown object>"
            ],
            "text/markdown": "Okay, as a high school student looking to learn a programming language, here's my recommendation and reasoning:\n\n**I strongly suggest learning Python (a).**\n\nHere's a breakdown of why and why not for each option:\n\n*   **a) Python:**\n\n    *   **Pros:**\n        *   **Beginner-Friendly:** Python has a relatively simple and readable syntax. It's designed to be easy to learn and understand, making it a great starting point for new programmers.\n        *   **Versatile:** Python is used in a wide range of applications, including web development (backend), data science, machine learning, scripting, automation, game development, and more. This means you have many paths to explore after learning the basics.\n        *   **Large and Active Community:** Python has a huge and supportive community. You'll find tons of tutorials, documentation, libraries, and forums to help you learn and troubleshoot.\n        *   **Good for STEM:** If you're interested in science, technology, engineering, or math, Python is an excellent choice. It's widely used in these fields for data analysis, simulations, and more.\n        *   **Career Opportunities:** Python skills are in high demand in the job market. Knowing Python can open doors to internships and future careers.\n        *   **Many resources for high schoolers:** Because of it's easy accessibility, there are tons of free resources for young learners.\n\n    *   **Cons:**\n        *   **Speed:** Python is generally slower than languages like C++ or Java, but this isn't usually a concern for beginner projects.\n\n*   **b) JavaScript:**\n\n    *   **Pros:**\n        *   **Front-End Web Development:** JavaScript is essential for creating interactive and dynamic websites. If you're interested in web design and development, JavaScript is a must-learn.\n        *   **Ubiquitous:** JavaScript runs in web browsers, so it's everywhere.\n        *   **Backend Development (Node.js):** JavaScript can also be used for backend development with Node.js, allowing you to build full-stack web applications.\n        *   **Active Community:** Like Python, JavaScript has a large and active community.\n        *   **Interactive results:** You can make things happen in the browser immediately.\n\n    *   **Cons:**\n        *   **Can be tricky for beginners:** While JavaScript is used everywhere, the initial learning curve can be steeper than Python, especially when dealing with the Document Object Model (DOM) and asynchronous programming. There are also many frameworks and libraries to learn, which can be overwhelming at first.\n\n*   **c) Fortran:**\n\n    *   **Pros:**\n        *   **Scientific Computing:** Fortran is a powerful language for numerical and scientific computing, particularly in areas like weather forecasting, climate modeling, and computational physics.\n        *   **Performance:** Fortran is known for its performance in certain scientific applications.\n\n    *   **Cons:**\n        *   **Limited Use Cases:** Fortran is primarily used in specific scientific and engineering domains. Its general applicability is much narrower than Python or JavaScript.\n        *   **Steeper Learning Curve:** The syntax and concepts in Fortran can be less intuitive for beginners compared to Python.\n        *   **Smaller Community:** Fortran has a smaller and less active community compared to Python or JavaScript.\n        *   **Less Relevant for General Programming:** Unless you're specifically interested in scientific computing, Fortran is probably not the best choice for a first programming language.\n        *   **Fewer Resources for beginners:** While there are still resources available, they aren't as abundant as Python.\n\n**Why Python is the best choice for you as a high school student:**\n\n1.  **Easier to Learn:** Python's clean syntax and focus on readability make it easier to grasp the fundamental concepts of programming. This means you'll be able to start writing useful programs sooner.\n2.  **More Versatile:** You can use Python for a wide variety of projects, from simple games and scripts to data analysis and web development. This allows you to explore different areas of computer science and find what interests you most.\n3.  **Stronger Community Support:** The Python community is incredibly helpful and welcoming to beginners. You'll find plenty of resources and support to help you learn and overcome challenges.\n4.  **Better Foundation:** Learning Python will provide you with a solid foundation in programming concepts that you can apply to other languages later on.\n5. **Relevance**: Python is everywhere!\n\n**In Summary:**\n\nWhile JavaScript is important for web development and Fortran has its niche, **Python is the most practical, beginner-friendly, and versatile choice for a high school student learning to program.**  You can always learn JavaScript later if you become interested in web development.\n\nGood luck with your programming journey!\n"
          },
          "metadata": {}
        }
      ],
      "source": [
        "prompt = \"\"\"I'm a high school student. Which of these activities do you suggest and why:\n",
        "a) learn Python\n",
        "b) learn JavaScript\n",
        "c) learn Fortran\n",
        "\"\"\"\n",
        "\n",
        "response = client.models.generate_content(model=MODEL_ID, contents=prompt)\n",
        "display(Markdown(response.text))"
      ]
    },
    {
      "cell_type": "markdown",
      "metadata": {
        "id": "iTd60b1GdIsx"
      },
      "source": [
        "### Improve response quality by including examples"
      ]
    },
    {
      "cell_type": "markdown",
      "metadata": {
        "id": "yJi44NejdJYE"
      },
      "source": [
        "Another way to improve response quality is to add examples in your prompt. The LLM learns in-context from the examples on how to respond. Typically, one to five examples (shots) are enough to improve the quality of responses. Including too many examples can cause the model to over-fit the data and reduce the quality of responses.\n",
        "\n",
        "Similar to classical model training, the quality and distribution of the examples is very important. Pick examples that are representative of the scenarios that you need the model to learn, and keep the distribution of the examples (e.g. number of examples per class in the case of classification) aligned with your actual distribution."
      ]
    },
    {
      "cell_type": "markdown",
      "metadata": {
        "id": "sMbLginWdOKs"
      },
      "source": [
        "#### Zero-shot prompt"
      ]
    },
    {
      "cell_type": "markdown",
      "metadata": {
        "id": "Crh2Loi2dQ0v"
      },
      "source": [
        "Below is an example of zero-shot prompting, where you don't provide any examples to the LLM within the prompt itself."
      ]
    },
    {
      "cell_type": "code",
      "execution_count": 34,
      "metadata": {
        "id": "-7myRc-SdTQ4",
        "colab": {
          "base_uri": "https://localhost:8080/",
          "height": 46
        },
        "outputId": "cda51bab-c551-429f-e380-a413bc4112d3"
      },
      "outputs": [
        {
          "output_type": "display_data",
          "data": {
            "text/plain": [
              "<IPython.core.display.Markdown object>"
            ],
            "text/markdown": "Sentiment: Positive\n"
          },
          "metadata": {}
        }
      ],
      "source": [
        "prompt = \"\"\"Decide whether a Tweet's sentiment is positive, neutral, or negative.\n",
        "\n",
        "Tweet: I loved the new YouTube video you made!\n",
        "Sentiment:\n",
        "\"\"\"\n",
        "\n",
        "response = client.models.generate_content(model=MODEL_ID, contents=prompt)\n",
        "display(Markdown(response.text))"
      ]
    },
    {
      "cell_type": "markdown",
      "metadata": {
        "id": "ucRtPn9SdL64"
      },
      "source": [
        "#### One-shot prompt"
      ]
    },
    {
      "cell_type": "markdown",
      "metadata": {
        "id": "rs0gQH2vdYBi"
      },
      "source": [
        "Below is an example of one-shot prompting, where you provide one example to the LLM within the prompt to give some guidance on what type of response you want."
      ]
    },
    {
      "cell_type": "code",
      "execution_count": 35,
      "metadata": {
        "id": "iEq-KxGYdaT5",
        "colab": {
          "base_uri": "https://localhost:8080/",
          "height": 46
        },
        "outputId": "1aa13043-e075-4105-d780-afa1ede9cb25"
      },
      "outputs": [
        {
          "output_type": "display_data",
          "data": {
            "text/plain": [
              "<IPython.core.display.Markdown object>"
            ],
            "text/markdown": "Sentiment: negative\n"
          },
          "metadata": {}
        }
      ],
      "source": [
        "prompt = \"\"\"Decide whether a Tweet's sentiment is positive, neutral, or negative.\n",
        "\n",
        "Tweet: I loved the new YouTube video you made!\n",
        "Sentiment: positive\n",
        "\n",
        "Tweet: That was awful. Super boring 😠\n",
        "Sentiment:\n",
        "\"\"\"\n",
        "\n",
        "response = client.models.generate_content(model=MODEL_ID, contents=prompt)\n",
        "display(Markdown(response.text))"
      ]
    },
    {
      "cell_type": "markdown",
      "metadata": {
        "id": "JnKLjJzmdfL_"
      },
      "source": [
        "#### Few-shot prompt"
      ]
    },
    {
      "cell_type": "markdown",
      "metadata": {
        "id": "6Zv-9F5OdgI_"
      },
      "source": [
        "Below is an example of few-shot prompting, where you provide a few examples to the LLM within the prompt to give some guidance on what type of response you want."
      ]
    },
    {
      "cell_type": "code",
      "execution_count": 36,
      "metadata": {
        "id": "u37P9tG4dk9S",
        "colab": {
          "base_uri": "https://localhost:8080/",
          "height": 46
        },
        "outputId": "de17ab7e-50d1-41e0-e2d6-4c48a5c4f264"
      },
      "outputs": [
        {
          "output_type": "display_data",
          "data": {
            "text/plain": [
              "<IPython.core.display.Markdown object>"
            ],
            "text/markdown": "Sentiment: positive\n"
          },
          "metadata": {}
        }
      ],
      "source": [
        "prompt = \"\"\"Decide whether a Tweet's sentiment is positive, neutral, or negative.\n",
        "\n",
        "Tweet: I loved the new YouTube video you made!\n",
        "Sentiment: positive\n",
        "\n",
        "Tweet: That was awful. Super boring 😠\n",
        "Sentiment: negative\n",
        "\n",
        "Tweet: Something surprised me about this video - it was actually original. It was not the same old recycled stuff that I always see. Watch it - you will not regret it.\n",
        "Sentiment:\n",
        "\"\"\"\n",
        "\n",
        "response = client.models.generate_content(model=MODEL_ID, contents=prompt)\n",
        "display(Markdown(response.text))"
      ]
    },
    {
      "cell_type": "markdown",
      "metadata": {
        "id": "wDMD3xb2dvX6"
      },
      "source": [
        "#### Choosing between zero-shot, one-shot, few-shot prompting methods"
      ]
    },
    {
      "cell_type": "markdown",
      "metadata": {
        "id": "s92W0YpNdxJp"
      },
      "source": [
        "Which prompt technique to use will solely depends on your goal. The zero-shot prompts are more open-ended and can give you creative answers, while one-shot and few-shot prompts teach the model how to behave so you can get more predictable answers that are consistent with the examples provided."
      ]
    }
  ],
  "metadata": {
    "colab": {
      "name": "intro_prompt_design.ipynb",
      "toc_visible": true,
      "provenance": [],
      "include_colab_link": true
    },
    "kernelspec": {
      "display_name": "Python 3",
      "name": "python3"
    }
  },
  "nbformat": 4,
  "nbformat_minor": 0
}